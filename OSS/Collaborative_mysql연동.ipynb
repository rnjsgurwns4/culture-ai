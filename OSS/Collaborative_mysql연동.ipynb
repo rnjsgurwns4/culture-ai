{
 "cells": [
  {
   "cell_type": "code",
   "execution_count": 1,
   "id": "91e2d869-1422-4123-8fd9-b795cef038a1",
   "metadata": {},
   "outputs": [],
   "source": [
    "# db_config.py\n",
    "\n",
    "import pymysql\n",
    "\n",
    "def get_connection():\n",
    "    return pymysql.connect(\n",
    "        host='localhost',\n",
    "        user='root',\n",
    "        password='alsghks0400!',\n",
    "        db='culture_db',\n",
    "        charset='utf8mb4',\n",
    "        cursorclass=pymysql.cursors.DictCursor\n",
    "    )\n"
   ]
  },
  {
   "cell_type": "code",
   "execution_count": 2,
   "id": "25b62fca-6a58-4c39-825e-85433770e18a",
   "metadata": {},
   "outputs": [
    {
     "name": "stderr",
     "output_type": "stream",
     "text": [
      "C:\\Users\\82106\\AppData\\Local\\Temp\\ipykernel_20372\\1835336651.py:10: UserWarning: pandas only supports SQLAlchemy connectable (engine/connection) or database string URI or sqlite3 DBAPI2 connection. Other DBAPI2 objects are not tested. Please consider using SQLAlchemy.\n",
      "  members_df = pd.read_sql(\"SELECT * FROM member\", conn)\n",
      "C:\\Users\\82106\\AppData\\Local\\Temp\\ipykernel_20372\\1835336651.py:11: UserWarning: pandas only supports SQLAlchemy connectable (engine/connection) or database string URI or sqlite3 DBAPI2 connection. Other DBAPI2 objects are not tested. Please consider using SQLAlchemy.\n",
      "  contents_df = pd.read_sql(\"SELECT * FROM content_detail\", conn)\n",
      "C:\\Users\\82106\\AppData\\Local\\Temp\\ipykernel_20372\\1835336651.py:12: UserWarning: pandas only supports SQLAlchemy connectable (engine/connection) or database string URI or sqlite3 DBAPI2 connection. Other DBAPI2 objects are not tested. Please consider using SQLAlchemy.\n",
      "  likes_df = pd.read_sql(\"SELECT * FROM content_favorite\", conn)\n",
      "C:\\Users\\82106\\AppData\\Local\\Temp\\ipykernel_20372\\1835336651.py:13: UserWarning: pandas only supports SQLAlchemy connectable (engine/connection) or database string URI or sqlite3 DBAPI2 connection. Other DBAPI2 objects are not tested. Please consider using SQLAlchemy.\n",
      "  region_df = pd.read_sql(\"SELECT * FROM region_coords\", conn)\n",
      "C:\\Users\\82106\\AppData\\Local\\Temp\\ipykernel_20372\\1835336651.py:14: UserWarning: pandas only supports SQLAlchemy connectable (engine/connection) or database string URI or sqlite3 DBAPI2 connection. Other DBAPI2 objects are not tested. Please consider using SQLAlchemy.\n",
      "  subcategory_df = pd.read_sql(\"SELECT * FROM content_sub_category\", conn)\n",
      "C:\\Users\\82106\\AppData\\Local\\Temp\\ipykernel_20372\\1835336651.py:15: UserWarning: pandas only supports SQLAlchemy connectable (engine/connection) or database string URI or sqlite3 DBAPI2 connection. Other DBAPI2 objects are not tested. Please consider using SQLAlchemy.\n",
      "  category_df = pd.read_sql(\"SELECT * FROM content_category\", conn)\n"
     ]
    }
   ],
   "source": [
    "# main.py\n",
    "\n",
    "import pandas as pd\n",
    "from db_config import get_connection\n",
    "\n",
    "# MySQL 연결\n",
    "conn = get_connection()\n",
    "\n",
    "# 각 테이블을 pandas DataFrame으로 불러오기\n",
    "members_df = pd.read_sql(\"SELECT * FROM member\", conn)\n",
    "contents_df = pd.read_sql(\"SELECT * FROM content_detail\", conn)\n",
    "likes_df = pd.read_sql(\"SELECT * FROM content_favorite\", conn)\n",
    "region_df = pd.read_sql(\"SELECT * FROM region_coords\", conn)\n",
    "subcategory_df = pd.read_sql(\"SELECT * FROM content_sub_category\", conn)\n",
    "category_df = pd.read_sql(\"SELECT * FROM content_category\", conn)\n",
    "\n",
    "# 연결 종료\n",
    "conn.close()"
   ]
  },
  {
   "cell_type": "code",
   "execution_count": 3,
   "id": "57a746a8-1dd9-49e6-b9b2-64ee3b175221",
   "metadata": {},
   "outputs": [
    {
     "name": "stdout",
     "output_type": "stream",
     "text": [
      "✅ members_df: (52, 12)\n",
      "✅ contents_df: (1324, 12)\n",
      "✅ likes_df: (5200, 4)\n",
      "✅ region_df: (25, 3)\n",
      "✅ subcategory_df: (14, 3)\n",
      "✅ category_df: (5, 2)\n"
     ]
    }
   ],
   "source": [
    "# 데이터 확인\n",
    "print(\"✅ members_df:\", members_df.shape)\n",
    "print(\"✅ contents_df:\", contents_df.shape)\n",
    "print(\"✅ likes_df:\", likes_df.shape)\n",
    "print(\"✅ region_df:\", region_df.shape)\n",
    "print(\"✅ subcategory_df:\", subcategory_df.shape)\n",
    "print(\"✅ category_df:\", category_df.shape)"
   ]
  },
  {
   "cell_type": "code",
   "execution_count": 4,
   "id": "363c5b9f-e179-4627-b24c-6356f3a51f03",
   "metadata": {},
   "outputs": [],
   "source": [
    "# 필요한 컬럼 선택\n",
    "user_features = members_df[['id', 'age', 'gender', 'location', 'keyword1', 'keyword2', 'keyword3']].copy()\n",
    "\n",
    "# 범주형 인코딩\n",
    "user_features_encoded = pd.get_dummies(user_features.set_index('id'))\n",
    "\n",
    "# 인덱스: member_id / 값: 벡터\n",
    "user_feature_matrix = user_features_encoded.sort_index()\n"
   ]
  },
  {
   "cell_type": "code",
   "execution_count": 5,
   "id": "560456d1-9f35-4d39-bb9e-6eed52d7fba5",
   "metadata": {},
   "outputs": [
    {
     "name": "stdout",
     "output_type": "stream",
     "text": [
      "✅ 사용자 유사도 행렬 (일부):\n",
      "           1         2         3         4         5\n",
      "1  1.000000  0.990207  0.991005  0.993801  0.991855\n",
      "2  0.990207  1.000000  0.997918  0.996454  0.995100\n",
      "3  0.991005  0.997918  1.000000  0.995900  0.996767\n",
      "4  0.993801  0.996454  0.995900  1.000000  0.993876\n",
      "5  0.991855  0.995100  0.996767  0.993876  1.000000\n"
     ]
    }
   ],
   "source": [
    "from sklearn.metrics.pairwise import cosine_similarity\n",
    "import numpy as np\n",
    "import pandas as pd\n",
    "\n",
    "# 유사도 행렬 계산 (index 순서 기준)\n",
    "user_sim_matrix = cosine_similarity(user_feature_matrix)\n",
    "\n",
    "# 유사도 행렬을 DataFrame으로 변환 (행/열: member_id)\n",
    "user_ids = user_feature_matrix.index.tolist()\n",
    "user_sim_df = pd.DataFrame(user_sim_matrix, index=user_ids, columns=user_ids)\n",
    "\n",
    "print(\"✅ 사용자 유사도 행렬 (일부):\\n\", user_sim_df.iloc[:5, :5])\n"
   ]
  },
  {
   "cell_type": "code",
   "execution_count": 19,
   "id": "4c0b737c-a041-4de5-bd9d-9d25a1052535",
   "metadata": {},
   "outputs": [
    {
     "name": "stdout",
     "output_type": "stream",
     "text": [
      "✅ 사용자별 추천 결과 (샘플):\n",
      "     member_id  content_detail_id  like_count\n",
      "0           1                317           3\n",
      "1           1                187           3\n",
      "2           1               1158           2\n",
      "3           2                127           3\n",
      "4           2                478           3\n",
      "5           2                 88           3\n",
      "6           3                249           3\n",
      "7           3                378           3\n",
      "8           3                 90           3\n",
      "9           4                302           4\n",
      "10          4                652           3\n",
      "11          4                283           3\n",
      "12          5                595           3\n",
      "13          5               1148           3\n",
      "14          5                843           3\n",
      "15          6                917           3\n",
      "16          6                284           3\n",
      "17          6                238           3\n",
      "18          7                550           3\n",
      "19          7                498           3\n"
     ]
    }
   ],
   "source": [
    "TOP_K = 5   # 유사 사용자 수\n",
    "TOP_N = 3   # 추천 콘텐츠 수\n",
    "\n",
    "recommendations = []\n",
    "\n",
    "# 모든 사용자에 대해 반복\n",
    "for user_id in user_sim_df.index:\n",
    "    # 본인을 제외한 유사 사용자 Top-K 추출\n",
    "    similar_users = (\n",
    "        user_sim_df.loc[user_id]\n",
    "        .drop(index=user_id)\n",
    "        .sort_values(ascending=False)\n",
    "        .head(TOP_K)\n",
    "        .index.tolist()\n",
    "    )\n",
    "    \n",
    "    # 유사 사용자가 찜한 콘텐츠들 집합\n",
    "    sim_users_likes = likes_df[likes_df['member_id'].isin(similar_users)]\n",
    "    liked_contents = sim_users_likes['content_detail_id'].value_counts()\n",
    "    \n",
    "    # 현재 사용자가 이미 찜한 콘텐츠\n",
    "    user_liked = set(likes_df[likes_df['member_id'] == user_id]['content_detail_id'])\n",
    "    \n",
    "    # 내가 찜하지 않은 콘텐츠 중에서 높은 순으로 추천\n",
    "    for content_id, count in liked_contents.items():\n",
    "        if content_id not in user_liked:\n",
    "            recommendations.append({\n",
    "                'member_id': user_id,\n",
    "                'content_detail_id': content_id,\n",
    "                'like_count': count\n",
    "            })\n",
    "            if sum(r['member_id'] == user_id for r in recommendations) >= TOP_N:\n",
    "                break  # 3개만 추천\n",
    "\n",
    "# 결과 DataFrame\n",
    "recommend_df = pd.DataFrame(recommendations)\n",
    "print(\"✅ 사용자별 추천 결과 (샘플):\\n\", recommend_df.head(20))\n"
   ]
  },
  {
   "cell_type": "code",
   "execution_count": 21,
   "id": "9aef8430-53b0-40ef-a03b-048dcee64722",
   "metadata": {},
   "outputs": [],
   "source": [
    "recommend_df.rename(columns={'like_count': 'score'}, inplace=True)\n",
    "recommend_df.to_csv(\"collaborative_recommendations.csv\", index=False)"
   ]
  }
 ],
 "metadata": {
  "kernelspec": {
   "display_name": "Python [conda env:base] *",
   "language": "python",
   "name": "conda-base-py"
  },
  "language_info": {
   "codemirror_mode": {
    "name": "ipython",
    "version": 3
   },
   "file_extension": ".py",
   "mimetype": "text/x-python",
   "name": "python",
   "nbconvert_exporter": "python",
   "pygments_lexer": "ipython3",
   "version": "3.12.7"
  }
 },
 "nbformat": 4,
 "nbformat_minor": 5
}
